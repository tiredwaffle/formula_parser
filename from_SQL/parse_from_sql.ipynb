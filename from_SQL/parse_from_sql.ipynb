{
 "cells": [
  {
   "cell_type": "markdown",
   "metadata": {},
   "source": [
    "## Task"
   ]
  },
  {
   "cell_type": "markdown",
   "metadata": {},
   "source": [
    "As an input we have query of a view for gathering statistics.\n",
    "<br>\n",
    "The task is to get all of the formulas in the human readable format.\n",
    "<br><br>\n",
    "<b>For example:</b>\n",
    "<br>\n",
    "'sum(nvl(COUNTER1,0)) + sum(nvl(COUNTER2,0))'   ->   '(COUNTER1+COUNTER2)'\n",
    "<br><br>\n",
    "<b>Additional condition:</b><br>\n",
    "If formulas contain division by counter, there is a mistake in the initial query. Counters like this one should not be added to the final output."
   ]
  },
  {
   "cell_type": "markdown",
   "metadata": {},
   "source": [
    "## Initial data"
   ]
  },
  {
   "cell_type": "code",
   "execution_count": 1,
   "metadata": {},
   "outputs": [],
   "source": [
    "# connecting to the db\n",
    "from helpers.utils import connect\n",
    "con, cur = connect('jump')"
   ]
  },
  {
   "cell_type": "code",
   "execution_count": 2,
   "metadata": {},
   "outputs": [],
   "source": [
    "import pandas as pd\n",
    "import numpy as np\n",
    "import moz_sql_parser\n",
    "import json\n",
    "\n",
    "from helpers.tools import clean_formula, simplify"
   ]
  },
  {
   "cell_type": "code",
   "execution_count": 3,
   "metadata": {},
   "outputs": [],
   "source": [
    "with open('clean_sql_hua_2g.txt', 'r') as f:\n",
    "    q = f.read()"
   ]
  },
  {
   "cell_type": "markdown",
   "metadata": {},
   "source": [
    "So here is the beginning of the query."
   ]
  },
  {
   "cell_type": "code",
   "execution_count": 4,
   "metadata": {},
   "outputs": [
    {
     "data": {
      "text/plain": [
       "['SELECT ',\n",
       " 'ROUND((23*SUM(NVL(L9002,0))+34*SUM(NVL(L9003,0))+40*SUM(NVL(L9004,0))+54*SUM(NVL(L9005,0)))/1024,2) TOT_VOLUM_CELL_GPRS_UL_KB,',\n",
       " 'ROUND((22*SUM(NVL(L9202,0))+28*SUM(NVL(L9203,0))+37*SUM(NVL(L9204,0))+44*SUM(NVL(L9205,0))+56*SUM(NVL(L9206,0))+74*SUM(NVL(L9207,0))+56*SUM(NVL(L9208,0))+68*SUM(NVL(L9209,0))+74*SUM(NVL(L9210,0)))/1024,2) TOT_VOLUM_CELL_EDGE_UL_KB,',\n",
       " 'ROUND((23*SUM(NVL(L9102,0))+34*SUM(NVL(L9103,0))+40*SUM(NVL(L9104,0))+54*SUM(NVL(L9105,0)))/1024,2) TOT_VOLUM_CELL_GPRS_DL_KB,',\n",
       " 'ROUND((22*SUM(NVL(L9302,0))+28*SUM(NVL(L9303,0))+37*SUM(NVL(L9304,0))+44*SUM(NVL(L9305,0))+56*SUM(NVL(L9306,0))+74*SUM(NVL(L9307,0))+56*SUM(NVL(L9308,0))+68*SUM(NVL(L9309,0))+74*SUM(NVL(L9310,0)))/1024,2) TOT_VOLUM_CELL_EDGE_DL_KB,',\n",
       " 'ROUND(SUM(NVL(L9421,0))/1024,2) TOT_VOLUSERUM_CELL_GPRS_UL_KB,',\n",
       " 'ROUND(SUM(NVL(L9423,0))/1024,2) TOT_VOLUSERUM_CELL_EDGE_UL_KB,',\n",
       " 'ROUND(SUM(NVL(L9525,0))/1024,2) TOT_VOLUSERUM_CELL_GPRS_DL_KB,',\n",
       " 'ROUND(SUM(NVL(L9527,0))/1024,2) TOT_VOLUSERUM_CELL_EDGE_DL_KB,',\n",
       " 'ROUND(8*(SUM(NVL(L9421,0))/1024+SUM(NVL(L9423,0))/1024),2) USERDATA_THR_TBF_AV_UL_KB_SEC_N1,',\n",
       " 'ROUND(0.001*(SUM(NVL(A9014,0))+SUM(NVL(A9214,0))),2) USERDATA_THR_TBF_AV_UL_KB_SEC_D1,']"
      ]
     },
     "execution_count": 4,
     "metadata": {},
     "output_type": "execute_result"
    }
   ],
   "source": [
    "q.split('\\n')[:11]"
   ]
  },
  {
   "cell_type": "markdown",
   "metadata": {},
   "source": [
    "## Parsing"
   ]
  },
  {
   "cell_type": "markdown",
   "metadata": {},
   "source": [
    "We use <i><u>moz_sql_parser</u></i> for parsing SQL. Then it's parsed to json for more comfortable interaction."
   ]
  },
  {
   "cell_type": "code",
   "execution_count": 5,
   "metadata": {},
   "outputs": [
    {
     "data": {
      "text/plain": [
       "{'value': {'round': [{'div': [{'add': [{'mul': [22,\n",
       "         {'sum': {'nvl': ['L9202', 0]}}]},\n",
       "       {'mul': [28, {'sum': {'nvl': ['L9203', 0]}}]},\n",
       "       {'mul': [37, {'sum': {'nvl': ['L9204', 0]}}]},\n",
       "       {'mul': [44, {'sum': {'nvl': ['L9205', 0]}}]},\n",
       "       {'mul': [56, {'sum': {'nvl': ['L9206', 0]}}]},\n",
       "       {'mul': [74, {'sum': {'nvl': ['L9207', 0]}}]},\n",
       "       {'mul': [56, {'sum': {'nvl': ['L9208', 0]}}]},\n",
       "       {'mul': [68, {'sum': {'nvl': ['L9209', 0]}}]},\n",
       "       {'mul': [74, {'sum': {'nvl': ['L9210', 0]}}]}]},\n",
       "     1024]},\n",
       "   2]},\n",
       " 'name': 'TOT_VOLUM_CELL_EDGE_UL_KB'}"
      ]
     },
     "execution_count": 5,
     "metadata": {},
     "output_type": "execute_result"
    }
   ],
   "source": [
    "parsed = json.dumps(moz_sql_parser.parse(q))\n",
    "que = json.loads(parsed)\n",
    "sample = que['select'][1]\n",
    "sample"
   ]
  },
  {
   "cell_type": "markdown",
   "metadata": {},
   "source": [
    "We create dictionary with every formula that passes given conditions. Counters with division by counter (if found) are ignored.\n",
    "<br>\n",
    "We use function <i><u>simplify</u></i> from custom library <i><u>tools</u></i> to create human readable formulas from json.\n",
    "<br>\n",
    "Then with <i><u>clean_formula</u></i> from custom library <i><u>tools</u></i> we get rid of all redundant parentheses."
   ]
  },
  {
   "cell_type": "code",
   "execution_count": 6,
   "metadata": {
    "scrolled": false
   },
   "outputs": [
    {
     "name": "stdout",
     "output_type": "stream",
     "text": [
      "Illigal operation in AU1\n",
      "Illigal operation in AU2\n",
      "Illigal operation in AD1\n",
      "Illigal operation in AD2\n",
      "Illigal operation in DATABASE_HRACT\n"
     ]
    }
   ],
   "source": [
    "t = {}\n",
    "\n",
    "for i in que['select']:\n",
    "    try:\n",
    "        t[i.get('name',i.get('value'))] = clean_formula(''.join([i[0] for i in simplify(i.get('value', 'Null'), [])]))\n",
    "    except Exception as e:\n",
    "        print('Illigal operation in', i['name'])"
   ]
  },
  {
   "cell_type": "markdown",
   "metadata": {},
   "source": [
    "## Results"
   ]
  },
  {
   "cell_type": "code",
   "execution_count": 7,
   "metadata": {},
   "outputs": [
    {
     "name": "stdout",
     "output_type": "stream",
     "text": [
      "TOT_VOLUM_CELL_GPRS_UL_KB:    (23*L9002+34*L9003+40*L9004+54*L9005)/1024\n",
      "TOT_VOLUM_CELL_EDGE_UL_KB:    (22*L9202+28*L9203+37*L9204+44*L9205+56*L9206+74*L9207+56*L9208+68*L9209+74*L9210)/1024\n",
      "TOT_VOLUM_CELL_GPRS_DL_KB:    (23*L9102+34*L9103+40*L9104+54*L9105)/1024\n",
      "TOT_VOLUM_CELL_EDGE_DL_KB:    (22*L9302+28*L9303+37*L9304+44*L9305+56*L9306+74*L9307+56*L9308+68*L9309+74*L9310)/1024\n",
      "TOT_VOLUSERUM_CELL_GPRS_UL_KB:    L9421/1024\n",
      "TOT_VOLUSERUM_CELL_EDGE_UL_KB:    L9423/1024\n",
      "TOT_VOLUSERUM_CELL_GPRS_DL_KB:    L9525/1024\n",
      "TOT_VOLUSERUM_CELL_EDGE_DL_KB:    L9527/1024\n",
      "USERDATA_THR_TBF_AV_UL_KB_SEC_N1:    8*(L9421/1024+L9423/1024)\n",
      "USERDATA_THR_TBF_AV_UL_KB_SEC_D1:    0.001*(A9014+A9214)\n"
     ]
    }
   ],
   "source": [
    "for key in list(t.keys())[:10]:\n",
    "    print(key + ':   ', t[key])"
   ]
  },
  {
   "cell_type": "markdown",
   "metadata": {},
   "source": [
    "Creating a DataFrame for comfortable import into DB."
   ]
  },
  {
   "cell_type": "code",
   "execution_count": 8,
   "metadata": {},
   "outputs": [],
   "source": [
    "formulas_df = pd.DataFrame({'NUM_DEN':list(t.keys()), 'VENDOR':['H' for i in t.keys()], \n",
    "              'FORMULA':list(t.values()), 'DATE_START': \"to_date('2018-01-01', 'YYYY-MM-DD')\",\n",
    "             'AG': ['SUM' for i in t.keys()], 'STANDART':['2G' for i in t.keys()], 'TYPE_STAT':['RAN' for i in t.keys()]})"
   ]
  },
  {
   "cell_type": "code",
   "execution_count": 9,
   "metadata": {},
   "outputs": [
    {
     "data": {
      "text/html": [
       "<div>\n",
       "<style scoped>\n",
       "    .dataframe tbody tr th:only-of-type {\n",
       "        vertical-align: middle;\n",
       "    }\n",
       "\n",
       "    .dataframe tbody tr th {\n",
       "        vertical-align: top;\n",
       "    }\n",
       "\n",
       "    .dataframe thead th {\n",
       "        text-align: right;\n",
       "    }\n",
       "</style>\n",
       "<table border=\"1\" class=\"dataframe\">\n",
       "  <thead>\n",
       "    <tr style=\"text-align: right;\">\n",
       "      <th></th>\n",
       "      <th>NUM_DEN</th>\n",
       "      <th>VENDOR</th>\n",
       "      <th>FORMULA</th>\n",
       "      <th>DATE_START</th>\n",
       "      <th>AG</th>\n",
       "      <th>STANDART</th>\n",
       "      <th>TYPE_STAT</th>\n",
       "    </tr>\n",
       "  </thead>\n",
       "  <tbody>\n",
       "    <tr>\n",
       "      <th>0</th>\n",
       "      <td>TOT_VOLUM_CELL_GPRS_UL_KB</td>\n",
       "      <td>H</td>\n",
       "      <td>(23*L9002+34*L9003+40*L9004+54*L9005)/1024</td>\n",
       "      <td>to_date('2018-01-01', 'YYYY-MM-DD')</td>\n",
       "      <td>SUM</td>\n",
       "      <td>2G</td>\n",
       "      <td>RAN</td>\n",
       "    </tr>\n",
       "    <tr>\n",
       "      <th>1</th>\n",
       "      <td>TOT_VOLUM_CELL_EDGE_UL_KB</td>\n",
       "      <td>H</td>\n",
       "      <td>(22*L9202+28*L9203+37*L9204+44*L9205+56*L9206+...</td>\n",
       "      <td>to_date('2018-01-01', 'YYYY-MM-DD')</td>\n",
       "      <td>SUM</td>\n",
       "      <td>2G</td>\n",
       "      <td>RAN</td>\n",
       "    </tr>\n",
       "    <tr>\n",
       "      <th>2</th>\n",
       "      <td>TOT_VOLUM_CELL_GPRS_DL_KB</td>\n",
       "      <td>H</td>\n",
       "      <td>(23*L9102+34*L9103+40*L9104+54*L9105)/1024</td>\n",
       "      <td>to_date('2018-01-01', 'YYYY-MM-DD')</td>\n",
       "      <td>SUM</td>\n",
       "      <td>2G</td>\n",
       "      <td>RAN</td>\n",
       "    </tr>\n",
       "    <tr>\n",
       "      <th>3</th>\n",
       "      <td>TOT_VOLUM_CELL_EDGE_DL_KB</td>\n",
       "      <td>H</td>\n",
       "      <td>(22*L9302+28*L9303+37*L9304+44*L9305+56*L9306+...</td>\n",
       "      <td>to_date('2018-01-01', 'YYYY-MM-DD')</td>\n",
       "      <td>SUM</td>\n",
       "      <td>2G</td>\n",
       "      <td>RAN</td>\n",
       "    </tr>\n",
       "    <tr>\n",
       "      <th>4</th>\n",
       "      <td>TOT_VOLUSERUM_CELL_GPRS_UL_KB</td>\n",
       "      <td>H</td>\n",
       "      <td>L9421/1024</td>\n",
       "      <td>to_date('2018-01-01', 'YYYY-MM-DD')</td>\n",
       "      <td>SUM</td>\n",
       "      <td>2G</td>\n",
       "      <td>RAN</td>\n",
       "    </tr>\n",
       "  </tbody>\n",
       "</table>\n",
       "</div>"
      ],
      "text/plain": [
       "                         NUM_DEN VENDOR  \\\n",
       "0      TOT_VOLUM_CELL_GPRS_UL_KB      H   \n",
       "1      TOT_VOLUM_CELL_EDGE_UL_KB      H   \n",
       "2      TOT_VOLUM_CELL_GPRS_DL_KB      H   \n",
       "3      TOT_VOLUM_CELL_EDGE_DL_KB      H   \n",
       "4  TOT_VOLUSERUM_CELL_GPRS_UL_KB      H   \n",
       "\n",
       "                                             FORMULA  \\\n",
       "0         (23*L9002+34*L9003+40*L9004+54*L9005)/1024   \n",
       "1  (22*L9202+28*L9203+37*L9204+44*L9205+56*L9206+...   \n",
       "2         (23*L9102+34*L9103+40*L9104+54*L9105)/1024   \n",
       "3  (22*L9302+28*L9303+37*L9304+44*L9305+56*L9306+...   \n",
       "4                                         L9421/1024   \n",
       "\n",
       "                            DATE_START   AG STANDART TYPE_STAT  \n",
       "0  to_date('2018-01-01', 'YYYY-MM-DD')  SUM       2G       RAN  \n",
       "1  to_date('2018-01-01', 'YYYY-MM-DD')  SUM       2G       RAN  \n",
       "2  to_date('2018-01-01', 'YYYY-MM-DD')  SUM       2G       RAN  \n",
       "3  to_date('2018-01-01', 'YYYY-MM-DD')  SUM       2G       RAN  \n",
       "4  to_date('2018-01-01', 'YYYY-MM-DD')  SUM       2G       RAN  "
      ]
     },
     "execution_count": 9,
     "metadata": {},
     "output_type": "execute_result"
    }
   ],
   "source": [
    "formulas_df.head()"
   ]
  },
  {
   "cell_type": "markdown",
   "metadata": {},
   "source": [
    "Total count of all counters that fits the condition."
   ]
  },
  {
   "cell_type": "code",
   "execution_count": 10,
   "metadata": {},
   "outputs": [
    {
     "data": {
      "text/plain": [
       "109"
      ]
     },
     "execution_count": 10,
     "metadata": {},
     "output_type": "execute_result"
    }
   ],
   "source": [
    "len(list(formulas_df['NUM_DEN']))"
   ]
  },
  {
   "cell_type": "markdown",
   "metadata": {},
   "source": [
    "### Import into DB"
   ]
  },
  {
   "cell_type": "code",
   "execution_count": 11,
   "metadata": {},
   "outputs": [],
   "source": [
    "con, cur = connect('vertica')"
   ]
  },
  {
   "cell_type": "code",
   "execution_count": 12,
   "metadata": {},
   "outputs": [],
   "source": [
    "for i in formulas_df.head(3).iterrows():\n",
    "    cur.execute('''INSERT INTO VERTICA_STAT.NUM_DENOM (NUM_DEN, VENDOR, FORMULA, DATE_START, AG, STANDART, TYPE_STAT) VALUES ('{}', '{}', '{}', {}, '{}', '{}', '{}')'''.format(*i[1]))"
   ]
  },
  {
   "cell_type": "code",
   "execution_count": 13,
   "metadata": {},
   "outputs": [
    {
     "data": {
      "text/html": [
       "<div>\n",
       "<style scoped>\n",
       "    .dataframe tbody tr th:only-of-type {\n",
       "        vertical-align: middle;\n",
       "    }\n",
       "\n",
       "    .dataframe tbody tr th {\n",
       "        vertical-align: top;\n",
       "    }\n",
       "\n",
       "    .dataframe thead th {\n",
       "        text-align: right;\n",
       "    }\n",
       "</style>\n",
       "<table border=\"1\" class=\"dataframe\">\n",
       "  <thead>\n",
       "    <tr style=\"text-align: right;\">\n",
       "      <th></th>\n",
       "      <th>NUM_DEN</th>\n",
       "      <th>VENDOR</th>\n",
       "      <th>FORMULA</th>\n",
       "      <th>DATE_START</th>\n",
       "      <th>AG</th>\n",
       "      <th>STANDART</th>\n",
       "      <th>TYPE_STAT</th>\n",
       "    </tr>\n",
       "  </thead>\n",
       "  <tbody>\n",
       "    <tr>\n",
       "      <th>0</th>\n",
       "      <td>USERDATA_THR_TBF_AV_UL_KB_SEC_NUM</td>\n",
       "      <td>H</td>\n",
       "      <td>8*(L9421/1024+L9423/1024)</td>\n",
       "      <td>2018-01-01</td>\n",
       "      <td>SUM</td>\n",
       "      <td>2G</td>\n",
       "      <td>RAN</td>\n",
       "    </tr>\n",
       "    <tr>\n",
       "      <th>1</th>\n",
       "      <td>USERDATA_THR_TBF_AV_UL_KB_SEC_DEN</td>\n",
       "      <td>H</td>\n",
       "      <td>0.001*(A9014+A9214)</td>\n",
       "      <td>2018-01-01</td>\n",
       "      <td>SUM</td>\n",
       "      <td>2G</td>\n",
       "      <td>RAN</td>\n",
       "    </tr>\n",
       "    <tr>\n",
       "      <th>2</th>\n",
       "      <td>USERDATA_THR_TBF_AV_DL_KB_SEC_NUM</td>\n",
       "      <td>H</td>\n",
       "      <td>8*(L9525+L9527)</td>\n",
       "      <td>2018-01-01</td>\n",
       "      <td>SUM</td>\n",
       "      <td>2G</td>\n",
       "      <td>RAN</td>\n",
       "    </tr>\n",
       "  </tbody>\n",
       "</table>\n",
       "</div>"
      ],
      "text/plain": [
       "                             NUM_DEN VENDOR                     FORMULA  \\\n",
       "0  USERDATA_THR_TBF_AV_UL_KB_SEC_NUM      H   8*(L9421/1024+L9423/1024)   \n",
       "1  USERDATA_THR_TBF_AV_UL_KB_SEC_DEN      H         0.001*(A9014+A9214)   \n",
       "2  USERDATA_THR_TBF_AV_DL_KB_SEC_NUM      H             8*(L9525+L9527)   \n",
       "\n",
       "  DATE_START   AG STANDART TYPE_STAT  \n",
       "0 2018-01-01  SUM       2G       RAN  \n",
       "1 2018-01-01  SUM       2G       RAN  \n",
       "2 2018-01-01  SUM       2G       RAN  "
      ]
     },
     "execution_count": 13,
     "metadata": {},
     "output_type": "execute_result"
    }
   ],
   "source": [
    "pd.read_sql('select * from VERTICA_STAT.NUM_DENOM where standart = \\'2G\\'', con).head(3)"
   ]
  }
 ],
 "metadata": {
  "kernelspec": {
   "display_name": "Python 3",
   "language": "python",
   "name": "python3"
  },
  "language_info": {
   "codemirror_mode": {
    "name": "ipython",
    "version": 3
   },
   "file_extension": ".py",
   "mimetype": "text/x-python",
   "name": "python",
   "nbconvert_exporter": "python",
   "pygments_lexer": "ipython3",
   "version": "3.7.8"
  }
 },
 "nbformat": 4,
 "nbformat_minor": 4
}
